{
  "nbformat": 4,
  "nbformat_minor": 0,
  "metadata": {
    "colab": {
      "provenance": [],
      "authorship_tag": "ABX9TyPrah4mcVMccuGbA+GxZ3KP",
      "include_colab_link": true
    },
    "kernelspec": {
      "name": "python3",
      "display_name": "Python 3"
    },
    "language_info": {
      "name": "python"
    }
  },
  "cells": [
    {
      "cell_type": "markdown",
      "metadata": {
        "id": "view-in-github",
        "colab_type": "text"
      },
      "source": [
        "<a href=\"https://colab.research.google.com/github/TomiOdrio/RatingPrediction/blob/main/Aplicaci%C3%B3nModeloFinal.ipynb\" target=\"_parent\"><img src=\"https://colab.research.google.com/assets/colab-badge.svg\" alt=\"Open In Colab\"/></a>"
      ]
    },
    {
      "cell_type": "code",
      "execution_count": null,
      "metadata": {
        "colab": {
          "base_uri": "https://localhost:8080/"
        },
        "id": "TZfP1wVavlw6",
        "outputId": "2ad72c25-3c07-4dfb-fff6-9a047585cbb2"
      },
      "outputs": [
        {
          "output_type": "stream",
          "name": "stdout",
          "text": [
            "Mounted at /content/drive\n",
            "Downloading tp2-predictivo-2023q2.zip to /content\n",
            " 62% 25.0M/40.2M [00:00<00:00, 115MB/s] \n",
            "100% 40.2M/40.2M [00:00<00:00, 139MB/s]\n"
          ]
        }
      ],
      "source": [
        "#Sube un archivo de Kaggle a la Máquina Virtual de Colab en un .zip\n",
        "#Requiere tener el archivo 'kaggle.json' en Drive\n",
        "#Requiere aceptar las reglas de la competencia en Kaggle\n",
        "\n",
        "import json\n",
        "from google.colab import drive\n",
        "\n",
        "!mkdir ~/.kaggle\n",
        "!touch ~/.kaggle/kaggle.json\n",
        "\n",
        "drive.mount('/content/drive', force_remount=True)\n",
        "with open(\"/content/drive/My Drive/kaggle.json\", 'r') as f:\n",
        "    api_token= json.load(f)\n",
        "\n",
        "with open('/root/.kaggle/kaggle.json', 'w') as file:\n",
        "    json.dump(api_token, file)\n",
        "\n",
        "!chmod 600 ~/.kaggle/kaggle.json\n",
        "\n",
        "!kaggle competitions download -c tp2-predictivo-2023q2"
      ]
    },
    {
      "cell_type": "code",
      "source": [
        "#Extraigo todos los archivos que están en el .zip que acabamos de \"bajar\".\n",
        "import zipfile\n",
        "import os\n",
        "\n",
        "os.listdir()\n",
        "\n",
        "\n",
        "for file in os.listdir():\n",
        "    if file.endswith('.zip'):\n",
        "      zip_ref = zipfile.ZipFile(file, 'r')\n",
        "      zip_ref.extractall()\n",
        "      zip_ref.close()"
      ],
      "metadata": {
        "id": "8boh3Qe4vre6"
      },
      "execution_count": null,
      "outputs": []
    },
    {
      "cell_type": "code",
      "source": [
        "_=!pip install feature_engine\n",
        "\n",
        "import numpy as np\n",
        "import pandas as pd\n",
        "import matplotlib.pyplot as plt\n",
        "import seaborn as sns\n",
        "\n",
        "#exportar pipes\n",
        "import pickle\n",
        "import joblib\n",
        "\n",
        "#crear directorio caché\n",
        "from tempfile import mkdtemp\n",
        "from shutil import rmtree\n",
        "\n",
        "# from tqdm import tqdm\n",
        "# from sklearn import set_config\n",
        "# from sklearn.base import clone\n",
        "\n",
        "#pipeline y search\n",
        "from sklearn.pipeline import Pipeline\n",
        "from sklearn.model_selection import GridSearchCV, RandomizedSearchCV, ParameterGrid, train_test_split, cross_val_score, KFold\n",
        "from sklearn.feature_selection import SelectPercentile, chi2\n",
        "\n",
        "#modelos\n",
        "from sklearn.ensemble import RandomForestRegressor, GradientBoostingRegressor\n",
        "from xgboost import XGBRegressor\n",
        "from sklearn.neural_network import MLPRegressor\n",
        "from sklearn.linear_model import LinearRegression\n",
        "from sklearn.svm import SVR\n",
        "from sklearn.metrics import r2_score\n",
        "from sklearn.impute import SimpleImputer\n",
        "\n",
        "#transformaciones\n",
        "from feature_engine.encoding import RareLabelEncoder, OrdinalEncoder, OneHotEncoder, CountFrequencyEncoder\n",
        "from feature_engine.imputation import AddMissingIndicator, MeanMedianImputer, CategoricalImputer, EndTailImputer, RandomSampleImputer\n",
        "from feature_engine.transformation import PowerTransformer\n",
        "from feature_engine.creation import RelativeFeatures\n",
        "from feature_engine.wrappers import SklearnTransformerWrapper\n",
        "\n",
        "#distribuciones\n",
        "import scipy as sp\n",
        "from scipy.stats import randint, uniform\n",
        "\n",
        "# from sklearn.compose import ColumnTransformer, make_column_transformer\n",
        "# from sklearn.impute import KNNImputer, SimpleImputer\n",
        "# from sklearn.preprocessing import StandardScaler, OneHotEncoder, KBinsDiscretizer"
      ],
      "metadata": {
        "id": "8F-jOwQvvwuU"
      },
      "execution_count": null,
      "outputs": []
    },
    {
      "cell_type": "code",
      "source": [
        "test = pd.read_csv('/content/testear.csv')\n",
        "test = test.drop(columns='Unnamed: 0')\n",
        "\n",
        "#Correcciones Test\n",
        "test['video'] = test['video'].replace(False,0)\n",
        "test['video'] = test['video'].replace(True,1)\n",
        "test['adult'] = test['adult'].replace(False,0)\n",
        "test['adult'] = test['adult'].replace(True,1)"
      ],
      "metadata": {
        "id": "teu3iPR9vz1R"
      },
      "execution_count": null,
      "outputs": []
    },
    {
      "cell_type": "code",
      "source": [
        "test.loc[test['startYear'] == 0, 'startYear'] = float(\"NaN\")\n",
        "test.loc[test['endYear'] == 0, 'endYear'] = float(\"NaN\")\n",
        "test.loc[test['runtimeMinutes'] == 0, 'runtimeMinutes'] = float(\"NaN\")\n",
        "test.loc[test['language'] == '0', 'language'] = float(\"NaN\")\n",
        "test.loc[test['attributes'] == '0', 'attributes'] = float(\"NaN\")\n",
        "test.loc[test['budget'] == 0, 'budget'] = float(\"NaN\")\n",
        "test.loc[test['genres_x'] == '0', 'genres_x'] = float(\"NaN\")\n",
        "test.loc[test['genres_y'] == '0', 'genres_y'] = float(\"NaN\")\n",
        "test.loc[test['production_companies'] == '0', 'production_companies'] = float(\"NaN\")\n",
        "test.loc[test['production_countries'] == '0', 'production_countries'] = float(\"NaN\")\n",
        "test.loc[test['revenue'] == 0, 'revenue'] = float(\"NaN\")\n",
        "test.loc[test['runtime'] == 0, 'runtime'] = float(\"NaN\")\n",
        "test.loc[test['directors'] == '0', 'directors'] = float(\"NaN\")\n",
        "test.loc[test['writers'] == '0', 'writers'] = float(\"NaN\")"
      ],
      "metadata": {
        "id": "FzgXatSTv_Q5"
      },
      "execution_count": null,
      "outputs": []
    },
    {
      "cell_type": "code",
      "source": [
        "test_sub = test.drop(columns=['tagline','production_companies','production_countries'])\n",
        "\n",
        "test_sub['writers'] = test_sub['writers'].replace(np.nan,'unk')\n",
        "test_sub['cant_writers'] = test_sub['writers'].apply(lambda x: x.count(',')+1 if 'unk' not in x else np.nan)\n",
        "test_sub['directors'] = test_sub['directors'].replace(np.nan,'unk')\n",
        "test_sub['cant_directors'] = test_sub['directors'].apply(lambda x: x.count(',')+1 if 'unk' not in x else np.nan)\n",
        "test_sub['genres_x'] = test_sub['genres_x'].replace(np.nan,'unk')\n",
        "test_sub['cant_genres_x'] = test_sub['genres_x'].apply(lambda x: x.count(',')+1 if 'unk' not in x else np.nan)\n",
        "\n",
        "txt = ['tagline'] if 'tagline' in test_sub.columns else []\n",
        "bool = [c for c in test_sub.columns if test_sub[c].nunique() <= 2]\n",
        "cat = [c for c in test_sub.columns if test_sub[c].dtype == 'O' and c not in bool]\n",
        "num = [c for c in test_sub.columns if test_sub[c].dtype != 'O' and c not in bool]\n",
        "\n",
        "print(f\"Texto: {txt} \\n Booleanas: {bool} \\n Categóricas: {cat} \\n Numéricas: {num} \\n\")\n",
        "print(\"Total variables:\",len(txt)+len(bool)+len(cat)+len(num))\n"
      ],
      "metadata": {
        "colab": {
          "base_uri": "https://localhost:8080/"
        },
        "id": "esbZJKQFwBrc",
        "outputId": "a7c5e0ce-dae3-4860-edb0-e8aa56972165"
      },
      "execution_count": null,
      "outputs": [
        {
          "output_type": "stream",
          "name": "stdout",
          "text": [
            "Texto: [] \n",
            " Booleanas: ['isAdult', 'isOriginalTitle', 'adult', 'video'] \n",
            " Categóricas: ['titleType', 'genres_x', 'directors', 'writers', 'language', 'attributes', 'genres_y', 'original_language', 'status'] \n",
            " Numéricas: ['numVotes', 'startYear', 'endYear', 'runtimeMinutes', 'seasonNumber', 'episodeNumber', 'ordering', 'budget', 'popularity', 'revenue', 'runtime', 'cant_writers', 'cant_directors', 'cant_genres_x'] \n",
            "\n",
            "Total variables: 27\n"
          ]
        }
      ]
    },
    {
      "cell_type": "code",
      "source": [
        "pipe = joblib.load('/content/drive/My Drive/notebooks/TP2_Predictivo/pipe.joblib')\n",
        "modelo = joblib.load('/content/drive/My Drive/notebooks/TP2_Predictivo/modelo.joblib')"
      ],
      "metadata": {
        "id": "-YL64ll-wKEU"
      },
      "execution_count": null,
      "outputs": []
    },
    {
      "cell_type": "code",
      "source": [
        "# Transformación con Pipeline\n",
        "test_sub = pipe.transform(test_sub)\n",
        "for var in cat:\n",
        "  test_sub[var] = test_sub[var].replace(np.nan,0)\n",
        "\n",
        "# Predicción con Modelo\n",
        "y_pred = modelo.predict(test_sub)\n",
        "\n",
        "# Exporto los resultados\n",
        "salida = pd.DataFrame(data={\"averageRating\": y_pred}).astype(str)\n",
        "salida.index = test_sub.index\n",
        "salida.to_csv(\"modelo.csv\", sep=',',index=True,  index_label='Id')"
      ],
      "metadata": {
        "colab": {
          "base_uri": "https://localhost:8080/"
        },
        "id": "As6yS-0cwTkf",
        "outputId": "08e3534e-e751-4575-b942-e4631d1a256f"
      },
      "execution_count": null,
      "outputs": [
        {
          "output_type": "stream",
          "name": "stderr",
          "text": [
            "/usr/local/lib/python3.10/dist-packages/feature_engine/encoding/base_encoder.py:255: UserWarning: During the encoding, NaN values were introduced in the feature(s) genres_x, directors, writers, attributes, genres_y, original_language, status.\n",
            "  warnings.warn(\n"
          ]
        }
      ]
    }
  ]
}